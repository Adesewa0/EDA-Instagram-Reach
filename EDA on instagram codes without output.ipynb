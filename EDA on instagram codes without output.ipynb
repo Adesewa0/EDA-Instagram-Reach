{
 "cells": [
  {
   "cell_type": "markdown",
   "id": "9e0f29d6",
   "metadata": {},
   "source": [
    "# About EDA - Exploratory Data Analysis is a DS concept where we analyze a dataset to discover patterns, trends, and relationships within the data. It helps to understand the information contained in the dataset and guides us in making informed decisions and formulating strategies to solve real business problems"
   ]
  },
  {
   "cell_type": "markdown",
   "id": "161e2d48",
   "metadata": {},
   "source": [
    "#### Import python Libraries"
   ]
  },
  {
   "cell_type": "code",
   "execution_count": null,
   "id": "e4a7a262",
   "metadata": {},
   "outputs": [],
   "source": [
    "import pandas as pd\n",
    "import numpy as np\n",
    "import matplotlib.pyplot as plt\n",
    "%matplotlib inline\n",
    "import warnings\n",
    "warnings.filterwarnings(\"ignore\")\n",
    "print('Done')"
   ]
  },
  {
   "cell_type": "markdown",
   "id": "8ec6679d",
   "metadata": {},
   "source": [
    "Maybe i'll uses this libraries"
   ]
  },
  {
   "cell_type": "markdown",
   "id": "043141a5",
   "metadata": {},
   "source": [
    "#### Importing excel-csv File"
   ]
  },
  {
   "cell_type": "code",
   "execution_count": null,
   "id": "dca0dc76",
   "metadata": {},
   "outputs": [],
   "source": [
    "instagram = pd.read_csv('Instagram-data.csv', encoding = 'Windows-1252')"
   ]
  },
  {
   "cell_type": "markdown",
   "id": "274cc64d",
   "metadata": {},
   "source": [
    "I'll be treating 10 questions for the EDA \n",
    " 1. How big is the data\n",
    " 2. How does it look like; columns\n",
    " 3. What is the data type of the columns\n",
    " 4. Are there missing values\n",
    " 5. How does the data look Statistically\n",
    " 6. Are there duplicate values\n",
    " 7. Is there correlation between the columns and individually\n",
    " 8. Explore the main feature of your data; instagram reach (Impresasion)\n",
    " 9. Explore other metrics that contribute to reach; likes, saves,follows\n",
    " 10. Just for fun- look Explore the hastags used in the posts using word cloud"
   ]
  },
  {
   "cell_type": "markdown",
   "id": "69e6a060",
   "metadata": {},
   "source": [
    "## 1. How big is the data"
   ]
  },
  {
   "cell_type": "code",
   "execution_count": null,
   "id": "d1775744",
   "metadata": {},
   "outputs": [],
   "source": [
    "instagram.shape"
   ]
  },
  {
   "cell_type": "markdown",
   "id": "433907c8",
   "metadata": {},
   "source": [
    "The dataset has 13 columns and 119 rows"
   ]
  },
  {
   "cell_type": "markdown",
   "id": "054291aa",
   "metadata": {},
   "source": [
    "## 2. How does the data look like\n"
   ]
  },
  {
   "cell_type": "code",
   "execution_count": null,
   "id": "1c8be86a",
   "metadata": {},
   "outputs": [],
   "source": [
    "instagram.columns"
   ]
  },
  {
   "cell_type": "code",
   "execution_count": null,
   "id": "0c787c6b",
   "metadata": {},
   "outputs": [],
   "source": [
    "instagram.head()"
   ]
  },
  {
   "cell_type": "code",
   "execution_count": null,
   "id": "e0f92421",
   "metadata": {},
   "outputs": [],
   "source": [
    "instagram.sample(5)"
   ]
  },
  {
   "cell_type": "markdown",
   "id": "4eb9c1b4",
   "metadata": {},
   "source": [
    "## What is the data type of columns"
   ]
  },
  {
   "cell_type": "code",
   "execution_count": null,
   "id": "6dd7e65e",
   "metadata": {},
   "outputs": [],
   "source": [
    "instagram.info()"
   ]
  },
  {
   "cell_type": "markdown",
   "id": "6519337c",
   "metadata": {},
   "source": [
    "The columns are good to go, no missing values and has the correct data type"
   ]
  },
  {
   "cell_type": "markdown",
   "id": "d77b8224",
   "metadata": {},
   "source": [
    "## Are there missing values, just to be sure again since the purpose of the last code was for data type"
   ]
  },
  {
   "cell_type": "code",
   "execution_count": null,
   "id": "28fbc043",
   "metadata": {},
   "outputs": [],
   "source": [
    "instagram.isnull()"
   ]
  },
  {
   "cell_type": "code",
   "execution_count": null,
   "id": "02549f4f",
   "metadata": {},
   "outputs": [],
   "source": [
    "instagram.isnull().sum()"
   ]
  },
  {
   "cell_type": "markdown",
   "id": "e6c294c8",
   "metadata": {},
   "source": [
    "## How does the data look like statistically"
   ]
  },
  {
   "cell_type": "code",
   "execution_count": null,
   "id": "ab08befd",
   "metadata": {
    "scrolled": true
   },
   "outputs": [],
   "source": [
    "instagram.describe()"
   ]
  },
  {
   "cell_type": "markdown",
   "id": "7cb3a123",
   "metadata": {},
   "source": [
    "This shows the count, mean, std, min, 25%, 50%, 75%, max.\n",
    "\n",
    "It means for Impressions; the maximumn impression is 36919, minimum is 1941, 25% of the impressions is 3467, mean is 5703.991597. Which can tell me that the maximumn impression for a post on this particular user page is 36919, the minimum impression of a post  is 1941.\n",
    "\n",
    "For from home, the maximum post reach from home is 13473, minimum is 1133, mean is 2475.789916, 50% is 2207,\n",
    "\n",
    "......"
   ]
  },
  {
   "cell_type": "markdown",
   "id": "37c3230f",
   "metadata": {},
   "source": [
    "## Are there duplicate values"
   ]
  },
  {
   "cell_type": "code",
   "execution_count": null,
   "id": "67b6ee2e",
   "metadata": {},
   "outputs": [],
   "source": [
    "instagram.duplicated().sum()"
   ]
  },
  {
   "cell_type": "code",
   "execution_count": null,
   "id": "d9a7e09c",
   "metadata": {},
   "outputs": [],
   "source": [
    "duplicate = instagram[instagram.duplicated()]\n",
    "duplicate"
   ]
  },
  {
   "cell_type": "markdown",
   "id": "760d5998",
   "metadata": {},
   "source": [
    "The duplicated rows alighted by python is not really duplicates..."
   ]
  },
  {
   "cell_type": "markdown",
   "id": "33750a29",
   "metadata": {},
   "source": [
    "## How is the correlation between columns"
   ]
  },
  {
   "cell_type": "code",
   "execution_count": null,
   "id": "1c3a8016",
   "metadata": {},
   "outputs": [],
   "source": [
    "instagram.corr()"
   ]
  },
  {
   "cell_type": "markdown",
   "id": "138dee01",
   "metadata": {},
   "source": [
    "The correlation show;\n",
    "    there's a strong correlation between\n",
    "    - Impressions and from home\n",
    "    - Impression and those exploring\n",
    "    - Impression and those saving\n",
    "    - Impression and likes\n",
    "    - Impression and profile visits\n",
    "    - Impressions and followers\n",
    "    \n",
    "    but not strong for\n",
    "    - Impressions and Hashtags\n",
    "    - Impressions and others\n",
    "    - Impressions and Shares\n",
    "    \n",
    "    and a negative correlation for \n",
    "    - Impressions and Commenters\n",
    "    \n",
    "Comments, Other seems like it generally does not have any effect on any of the variables\n",
    "Hashtags seem like it has a little influence on the variables\n",
    "From home, Saves, Shares,Likes, Profile visits has influence but not on most variables\n",
    "Exporers has influence but not on every variable, there's a variable that it has no influence over at all"
   ]
  },
  {
   "cell_type": "markdown",
   "id": "754ee0e5",
   "metadata": {},
   "source": [
    "## 8. Explore the main feature of your data; instagram reach (Impression)"
   ]
  },
  {
   "cell_type": "code",
   "execution_count": null,
   "id": "fde54246",
   "metadata": {},
   "outputs": [],
   "source": [
    "import plotly.express as px\n",
    "fig = px.histogram(instagram, x='Impressions', nbins=10, title='Distribution of Impressions')\n",
    "fig.show()"
   ]
  },
  {
   "cell_type": "markdown",
   "id": "731d6561",
   "metadata": {},
   "source": [
    "We can see here that the highest impressions does not have the highest count, the highest count is between 0-10k impressions but what about the impression of a post over time, the count of post that made high impressions is not much yet."
   ]
  },
  {
   "cell_type": "code",
   "execution_count": null,
   "id": "ec996559",
   "metadata": {},
   "outputs": [],
   "source": [
    "fig = px.line(instagram, x=instagram.index, y= 'Impressions', title='Impressions over time')\n",
    "fig.show()"
   ]
  },
  {
   "cell_type": "markdown",
   "id": "b0989cb3",
   "metadata": {},
   "source": [
    "Over time the impression increases as the days increases and especially after day or post 106, the impressions kept on increasing even up to 36.919k and it looks like it'll keep on growing, the user now has posts that is engaging, causing the impressions to increase overtime."
   ]
  },
  {
   "cell_type": "markdown",
   "id": "9dc1a0ed",
   "metadata": {},
   "source": [
    "### 9. Explore other metrics that contribute to reach; likes, saves,follows\n"
   ]
  },
  {
   "cell_type": "code",
   "execution_count": null,
   "id": "e1964d20",
   "metadata": {},
   "outputs": [],
   "source": [
    "import plotly.graph_objects as go\n",
    "fig = go.Figure()\n",
    "fig.add_trace(go.Scatter(x=instagram.index, y= instagram['Likes'], name='Likes'))\n",
    "fig.add_trace(go.Scatter(x=instagram.index, y= instagram['Saves'], name='Saves'))\n",
    "fig.add_trace(go.Scatter(x=instagram.index, y= instagram['Follows'], name='Follows'))\n",
    "\n",
    "fig.update_layout(title='Metrics Over Time', xaxis_title='Date', yaxis_title='Count')\n",
    "fig.show()"
   ]
  },
  {
   "cell_type": "markdown",
   "id": "dd8a550f",
   "metadata": {},
   "source": [
    "Over dates, Saves increases than likes and follows over the days, likes increases over the days, follows just moves along generally but aroung 110 days there seems to be a spike for the likes, saves and follows. The users either posted something that brought in more people to follow, engaged and liked there,even days after that the hike still occurs and continur=es increasing if that continues the user may gain in more users in the coming days than ovw=er the last 100days."
   ]
  },
  {
   "cell_type": "markdown",
   "id": "1aa9c025",
   "metadata": {},
   "source": [
    " ### 10. Just for fun- look Explore the hastags used in the posts using word cloud"
   ]
  },
  {
   "cell_type": "code",
   "execution_count": null,
   "id": "1ee21cd8",
   "metadata": {},
   "outputs": [],
   "source": [
    "from wordcloud import WordCloud\n",
    "hashtags = ' '.join(instagram['Hashtags'].astype(str))\n",
    "wordcloud =WordCloud().generate(hashtags)\n",
    "fig = px.imshow(wordcloud, title='Hashtags Word Cloud')\n",
    "fig.show()"
   ]
  },
  {
   "cell_type": "code",
   "execution_count": null,
   "id": "e59fae3b",
   "metadata": {},
   "outputs": [],
   "source": [
    "import wordcloud"
   ]
  },
  {
   "cell_type": "code",
   "execution_count": null,
   "id": "6f23b89b",
   "metadata": {},
   "outputs": [],
   "source": [
    "!pip install wordcloud"
   ]
  },
  {
   "cell_type": "markdown",
   "id": "f65f7dc1",
   "metadata": {},
   "source": [
    "### Solutions\n",
    "\n",
    "1. The data is 119 rows and 13 columns big\n",
    "2. The data looks promising enough to answer questions about instagram reach using the columns provided to gain insights. It also clean, haven't seen any column row that needs to be worked upon. Good enough for analysis!!!\n",
    "3. The data types is 2 objects columns and 11 integers coulns which is well and correct\n",
    "4. There are no missing values in the columns altogether\n",
    "5. The data statistically shows the count, mean, std, min, 25%, 50%, 75% and max of each numerical column.\n",
    "6. There are no duplicated values but python selectes 17 as duplicaes, when i checked through before dropping I discovered they were not duplicates and i didn't drop them either.\n",
    "7.  The Correlation comment: looks like it generally does not have any effect on any of the variables Hashtags seem like it has a little influence on the variables From home, Saves, Shares, Likes, Profile visits has influence but not on most variables Exporers has influence but not on every variable, there's a variable that it has no influence over at all.\n",
    "8. The instagram reach Impression the count of post that made high impressions is not much yet over time(days) and also it increases as the days increases and especially after day or post 106, the impressions kept on increasing even up to 36.919k and it looks like it'll keep on growing, the user now has posts that is engaging, causing the impressions to increase overtime.\n",
    "9. Metrics like Likes, Saves and Follows shows us; Saves increases than likes and follows over the days, likes increases over the days, follows just moves along generally but aroung 110 days there seems to be a spike for the likes, saves and follows. The users either posted something that brought in more people to follow, engaged and liked there,even days after that the hike still occurs and continur=es increasing if that continues the user may gain in more users in the coming days than ovw=er the last 100days."
   ]
  },
  {
   "cell_type": "markdown",
   "id": "228b81c3",
   "metadata": {},
   "source": [
    "I'll be treating 10 questions for the EDA \n",
    " 1. How big is the data\n",
    " 2. How does it look like; columns\n",
    " 3. What is the data type of the columns\n",
    " 4. Are there missing values\n",
    " 5. How does the data look Statistically\n",
    " 6. Are there duplicate values\n",
    " 7. Is there correlation between the columns and individually\n",
    " 8. Explore the main feature of your data; instagram reach (Impresasion)\n",
    " 9. Explore other metrics that contribute to reach; likes, saves,follows\n",
    " 10. Just for fun- look Explore the hastags used in the posts using word cloud"
   ]
  }
 ],
 "metadata": {
  "kernelspec": {
   "display_name": "Python 3 (ipykernel)",
   "language": "python",
   "name": "python3"
  },
  "language_info": {
   "codemirror_mode": {
    "name": "ipython",
    "version": 3
   },
   "file_extension": ".py",
   "mimetype": "text/x-python",
   "name": "python",
   "nbconvert_exporter": "python",
   "pygments_lexer": "ipython3",
   "version": "3.10.9"
  }
 },
 "nbformat": 4,
 "nbformat_minor": 5
}
